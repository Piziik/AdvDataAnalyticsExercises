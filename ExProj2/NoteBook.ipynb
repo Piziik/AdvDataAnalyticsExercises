{
 "cells": [
  {
   "cell_type": "markdown",
   "metadata": {},
   "source": [
    "## Handling Outliers in the Datasets\n",
    "\n",
    "We identified that both our classification and regression datasets contained outliers, which could distort the models' predictions and overall performance. Outliers can arise from various sources, including data entry errors, variability in data collection, or genuine anomalies in the data.\n",
    "\n",
    "### Solution: Isolation Forest\n",
    "To address the outliers, we employed Isolation Forest, an unsupervised learning algorithm specifically designed for anomaly detection. This technique isolates observations in the dataset, identifying outliers based on how easily they can be separated from the rest of the data. By applying Isolation Forest to both the classification and regression datasets, we were able to effectively detect and remove these outliers, enhancing the robustness of our models and improving their predictive performance."
   ]
  },
  {
   "cell_type": "markdown",
   "metadata": {},
   "source": [
    "For the Classification dataset:"
   ]
  },
  {
   "cell_type": "code",
   "execution_count": 1,
   "metadata": {},
   "outputs": [
    {
     "name": "stdout",
     "output_type": "stream",
     "text": [
      "Class distribution before outliers removal: 0    4208\n",
      "1    3916\n",
      "Name: count, dtype: int64\n",
      "Class distribution after outliers removal: 1    3801\n",
      "0    3510\n",
      "Name: count, dtype: int64\n"
     ]
    }
   ],
   "source": [
    "import pandas as pd\n",
    "from sklearn.preprocessing import LabelEncoder\n",
    "from sklearn.ensemble import IsolationForest\n",
    "\n",
    "df_class = pd.read_csv('Model/mushrooms.csv')\n",
    "\n",
    "df_class_encoded = pd.get_dummies(df_class.drop('class', axis=1))\n",
    "le = LabelEncoder()\n",
    "y_class = le.fit_transform(df_class['class'])\n",
    "iso_forest_class = IsolationForest(contamination=0.1, random_state=42)\n",
    "yhat_class = iso_forest_class.fit_predict(df_class_encoded)\n",
    "\n",
    "X_class_no_outliers = df_class_encoded[yhat_class != -1]\n",
    "y_class_no_outliers = y_class[yhat_class != -1]\n",
    "\n",
    "print('Class distribution before outliers removal:', pd.Series(y_class).value_counts())\n",
    "print('Class distribution after outliers removal:', pd.Series(y_class_no_outliers).value_counts())"
   ]
  },
  {
   "cell_type": "markdown",
   "metadata": {},
   "source": [
    "For the Regression dataset:"
   ]
  },
  {
   "cell_type": "code",
   "execution_count": null,
   "metadata": {},
   "outputs": [],
   "source": [
    "import pandas as pd\n",
    "from sklearn.preprocessing import LabelEncoder\n",
    "from sklearn.ensemble import IsolationForest\n",
    "from scipy import sparse\n",
    "\n",
    "df_reg = pd.read_csv('Model\\VGChartzGamesSalesDataset.csv')\n",
    "\n",
    "le = LabelEncoder()\n",
    "df_reg['publisher'] = le.fit_transform(df_reg['publisher'])\n",
    "df_reg['release_year'] = pd.to_datetime(df_reg['release_date'], errors='coerce').dt.year\n",
    "df_reg = df_reg.drop('release_date', axis=1)\n",
    "\n",
    "if 'name' in df_reg.columns:\n",
    "    df_reg = df_reg.drop('name', axis=1)\n",
    "if 'img_url' in df_reg.columns:\n",
    "    df_reg = df_reg.drop('img_url', axis=1)\n",
    "\n",
    "df_reg = pd.get_dummies(df_reg, columns=['genre'])\n",
    "bool_cols = df_reg.select_dtypes(include='bool').columns\n",
    "df_reg[bool_cols] = df_reg[bool_cols].astype(int)\n",
    "df_reg = df_reg.fillna(0)\n",
    "\n",
    "X_reg = df_reg.drop('total_sales', axis=1)\n",
    "y_reg = df_reg['total_sales']\n",
    "X_sparse = sparse.csr_matrix(X_reg)\n",
    "iso_forest = IsolationForest(contamination=0.1, random_state=42)\n",
    "yhat_reg = iso_forest.fit_predict(X_sparse)\n",
    "X_reg_no_outliers = X_reg[yhat_reg != -1]\n",
    "y_reg_no_outliers = y_reg[yhat_reg != -1]\n",
    "print(f\"\\nShape of X_reg before outlier removal: {X_reg.shape}\")\n",
    "print(f\"Shape of X_reg after outlier removal: {X_reg_no_outliers.shape}\")\n",
    "print(\"\\nFirst few rows of cleaned data:\\n\", X_reg_no_outliers.head())"
   ]
  }
 ],
 "metadata": {
  "kernelspec": {
   "display_name": ".venv",
   "language": "python",
   "name": "python3"
  },
  "language_info": {
   "codemirror_mode": {
    "name": "ipython",
    "version": 3
   },
   "file_extension": ".py",
   "mimetype": "text/x-python",
   "name": "python",
   "nbconvert_exporter": "python",
   "pygments_lexer": "ipython3",
   "version": "3.9.13"
  }
 },
 "nbformat": 4,
 "nbformat_minor": 2
}
